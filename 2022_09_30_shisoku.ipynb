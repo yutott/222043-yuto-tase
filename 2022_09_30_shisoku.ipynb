{
  "nbformat": 4,
  "nbformat_minor": 0,
  "metadata": {
    "colab": {
      "provenance": [],
      "authorship_tag": "ABX9TyMw+cz1Vx+1JWT81uyD62Jk",
      "include_colab_link": true
    },
    "kernelspec": {
      "name": "python3",
      "display_name": "Python 3"
    },
    "language_info": {
      "name": "python"
    }
  },
  "cells": [
    {
      "cell_type": "markdown",
      "metadata": {
        "id": "view-in-github",
        "colab_type": "text"
      },
      "source": [
        "<a href=\"https://colab.research.google.com/github/yutott/222043-yuto-tase/blob/main/2022_09_30_shisoku.ipynb\" target=\"_parent\"><img src=\"https://colab.research.google.com/assets/colab-badge.svg\" alt=\"Open In Colab\"/></a>"
      ]
    },
    {
      "cell_type": "code",
      "execution_count": null,
      "metadata": {
        "colab": {
          "base_uri": "https://localhost:8080/"
        },
        "id": "ClKzsgLzwrY8",
        "outputId": "951df1ad-ca8e-42dd-f90f-f8773cc34616"
      },
      "outputs": [
        {
          "output_type": "stream",
          "name": "stdout",
          "text": [
            "30\n",
            "-10\n",
            "200\n",
            "0.5\n",
            "0\n"
          ]
        }
      ],
      "source": [
        "print(10+20)\n",
        "print(10-20)\n",
        "print(10*20)\n",
        "print(10/20)\n",
        "print(10//20)"
      ]
    },
    {
      "cell_type": "code",
      "source": [
        "print(81//9)"
      ],
      "metadata": {
        "colab": {
          "base_uri": "https://localhost:8080/"
        },
        "id": "I1gKzDDVxIbp",
        "outputId": "5b91c87f-135d-4418-be7a-f95d038b3c72"
      },
      "execution_count": null,
      "outputs": [
        {
          "output_type": "stream",
          "name": "stdout",
          "text": [
            "9\n"
          ]
        }
      ]
    },
    {
      "cell_type": "code",
      "source": [
        "print(27%4)"
      ],
      "metadata": {
        "colab": {
          "base_uri": "https://localhost:8080/"
        },
        "id": "Dfl05p97y6oE",
        "outputId": "b4e20449-8ce6-4d2d-84da-d7fb46351dc9"
      },
      "execution_count": null,
      "outputs": [
        {
          "output_type": "stream",
          "name": "stdout",
          "text": [
            "3\n"
          ]
        }
      ]
    },
    {
      "cell_type": "code",
      "source": [
        "print(2**5)"
      ],
      "metadata": {
        "id": "hqkTsf0F1OmU"
      },
      "execution_count": null,
      "outputs": []
    }
  ]
}